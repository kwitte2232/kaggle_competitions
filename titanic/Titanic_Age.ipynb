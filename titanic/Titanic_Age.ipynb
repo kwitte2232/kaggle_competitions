{
 "cells": [
  {
   "cell_type": "code",
   "execution_count": 19,
   "metadata": {
    "collapsed": true
   },
   "outputs": [],
   "source": [
    "import pandas as pd\n",
    "import numpy as np\n",
    "import matplotlib.pyplot as plt\n",
    "from sklearn import tree"
   ]
  },
  {
   "cell_type": "code",
   "execution_count": 2,
   "metadata": {
    "collapsed": true
   },
   "outputs": [],
   "source": [
    "train_url = \"http://s3.amazonaws.com/assets.datacamp.com/course/Kaggle/train.csv\"\n",
    "train_data = pd.read_csv(train_url)"
   ]
  },
  {
   "cell_type": "code",
   "execution_count": 8,
   "metadata": {
    "collapsed": false
   },
   "outputs": [],
   "source": [
    "#Fill NaN in Age with 19 if they don't have any family members\n",
    "# Assuming that they would be young adult people traveling alone\n",
    "#Fill NaN in Age with 17 if their family members are 2 or more \n",
    "for i,age in enumerate(train_data[\"Age\"]):\n",
    "    num_fam_members = train_data[\"Parch\"][i] + train_data[\"SibSp\"][i]\n",
    "    if num_fam_members == 0: \n",
    "        train_data[\"Age\"] = train_data[\"Age\"].fillna(19)\n",
    "    elif num_fam_members >= 2:\n",
    "        train_data[\"Age\"] = train_data[\"Age\"].fillna(17)\n",
    "\n",
    "#could have used passengerID, which the value is the same as the index"
   ]
  },
  {
   "cell_type": "code",
   "execution_count": 9,
   "metadata": {
    "collapsed": true
   },
   "outputs": [],
   "source": [
    "train_data[\"Child\"] = float(\"NaN\")\n",
    "train_data.loc[train_data.Age < 18, \"Child\"] = 1\n",
    "train_data.loc[train_data.Age >= 18, \"Child\"] = 0"
   ]
  },
  {
   "cell_type": "code",
   "execution_count": 10,
   "metadata": {
    "collapsed": true
   },
   "outputs": [],
   "source": [
    "# make a new dataFrame based on survival\n",
    "survived_data = train_data[train_data.Survived == 1]"
   ]
  },
  {
   "cell_type": "code",
   "execution_count": 12,
   "metadata": {
    "collapsed": false
   },
   "outputs": [],
   "source": [
    "# make a second dataFrame that encompasses those not survived\n",
    "not_survived_Data = train_data[train_data.Survived == 0]"
   ]
  },
  {
   "cell_type": "code",
   "execution_count": 22,
   "metadata": {
    "collapsed": true
   },
   "outputs": [],
   "source": [
    "survived_age = np.asarray(survived_data[\"Age\"])\n",
    "not_survived_age = np.asarray(survived_data[\"Age\"])"
   ]
  },
  {
   "cell_type": "code",
   "execution_count": 20,
   "metadata": {
    "collapsed": false
   },
   "outputs": [
    {
     "name": "stdout",
     "output_type": "stream",
     "text": [
      "[0, 10, 20, 30, 40, 50, 60, 70, 80]\n",
      "[0, 10, 20, 30, 40, 50, 60, 70]\n",
      "[0, 10, 20, 30, 40, 50, 60, 70]\n",
      "[4.269662921348314, 10.44943820224719, 8.651685393258427, 8.202247191011235, 3.8202247191011236, 2.247191011235955, 0.6741573033707865, 0.11235955056179776]\n"
     ]
    },
    {
     "data": {
      "image/png": "[encoded data removed]",
      "text/plain": [
       "<matplotlib.figure.Figure at 0x1093f9610>"
      ]
     },
     "metadata": {},
     "output_type": "display_data"
    }
   ],
   "source": [
    "%matplotlib inline\n",
    "survived_binned, bin_edges = np.histogram(survived_age, bins=[0,10,20,30,40,50,60,70,80])\n",
    "\n",
    "survived_list = list(survived_binned)\n",
    "convert_to_float = [float(i) for i in survived_list]\n",
    "\n",
    "age_percent = [n/890*100 for n in convert_to_float]\n",
    "\n",
    "bins = list(bin_edges)\n",
    "print(bins)\n",
    "bins.pop()\n",
    "print(bins)\n",
    "position = [x + 5 for x in bins]\n",
    "print(bins)\n",
    "\n",
    "#age_percent = np.divide(x_binned, np.asarray([890]))\n",
    "print(age_percent)\n",
    "\n",
    "fig, ax = plt.subplots()\n",
    "\n",
    "width = 1\n",
    "chart = ax.bar(position, age_percent, width)\n",
    "title = \"Survival at Age Breakdown Across Population\"\n",
    "y_axis = \"Percent\"\n",
    "x_axis = \"Age (binned by 10)\"\n",
    "ax.set_title(title)\n",
    "ax.set_ylabel(y_axis)\n",
    "ax.set_xlabel(x_axis)\n",
    "plt.show()"
   ]
  },
  {
   "cell_type": "code",
   "execution_count": 32,
   "metadata": {
    "collapsed": false
   },
   "outputs": [
    {
     "name": "stdout",
     "output_type": "stream",
     "text": [
      "[38 93 77 73 34 20  6  1]\n",
      "[62, 279, 220, 167, 89, 48, 19, 7]\n",
      "[61.29032258064516, 33.33333333333333, 35.0, 43.712574850299404, 38.20224719101123, 41.66666666666667, 31.57894736842105, 14.285714285714285]\n"
     ]
    },
    {
     "data": {
      "image/png": "[encoded data removed]",
      "text/plain": [
       "<matplotlib.figure.Figure at 0x10a901b50>"
      ]
     },
     "metadata": {},
     "output_type": "display_data"
    }
   ],
   "source": [
    "%matplotlib inline\n",
    "survived_binned, bin_edges = np.histogram(survived_age, bins=[0,10,20,30,40,50,60,70,80])\n",
    "print(survived_binned)\n",
    "survived_list = list(survived_binned)\n",
    "convert_to_float_survived = [float(i) for i in survived_list]\n",
    "\n",
    "not_survived_binned, bin_edges = np.histogram(not_survived_age, bins=[0,10,20,30,40,50,60,70,80])\n",
    "\n",
    "not_survived_list = list(survived_binned)\n",
    "convert_to_float_survived = [float(i) for i in survived_list]\n",
    "\n",
    "all_ages = np.asarray(train_data[\"Age\"])\n",
    "all_ages_binned, edges = np.histogram(all_ages, bins=[0,10,20,30,40,50,60,70,80])\n",
    "all_ages_list = list(all_ages_binned)\n",
    "convert_to_float_all = [float(i) for i in all_ages_list]\n",
    "print(all_ages_list)\n",
    "\n",
    "normalized = []\n",
    "for s, a in zip(convert_to_float_survived, convert_to_float_all):\n",
    "    percent = s/a*100\n",
    "    normalized.append(percent)\n",
    "    \n",
    "print(normalized)\n",
    "\n",
    "fig, ax = plt.subplots()\n",
    "\n",
    "width = 1\n",
    "chart = ax.bar(position, normalized, width)\n",
    "title = \"Survival at Age Breakdown within that Age Population\"\n",
    "y_axis = \"Percent\"\n",
    "x_axis = \"Age (binned by 10)\"\n",
    "ax.set_title(title)\n",
    "ax.set_ylabel(y_axis)\n",
    "ax.set_xlabel(x_axis)\n",
    "plt.show()\n"
   ]
  },
  {
   "cell_type": "code",
   "execution_count": 37,
   "metadata": {
    "collapsed": false
   },
   "outputs": [
    {
     "name": "stdout",
     "output_type": "stream",
     "text": [
      "[38 93 77 73 34 20  6  1]\n",
      "[  62.  279.  220.  167.   89.   48.   19.    7.]\n",
      "[ 38.  93.  77.  73.  34.  20.   6.   1.]\n",
      "[ 61.29032258  33.33333333  35.          43.71257485  38.20224719\n",
      "  41.66666667  31.57894737  14.28571429]\n"
     ]
    },
    {
     "data": {
      "image/png": "[encoded data removed]",
      "text/plain": [
       "<matplotlib.figure.Figure at 0x10a8f6490>"
      ]
     },
     "metadata": {},
     "output_type": "display_data"
    }
   ],
   "source": [
    "%matplotlib inline\n",
    "survived_binned, bin_edges = np.histogram(survived_age, bins=[0,10,20,30,40,50,60,70,80])\n",
    "print(survived_binned)\n",
    "\n",
    "all_ages = np.asarray(train_data[\"Age\"])\n",
    "all_ages_binned, edges = np.histogram(all_ages, bins=[0,10,20,30,40,50,60,70,80])\n",
    "\n",
    "all_ages_float = all_ages_binned.astype(np.float)\n",
    "\n",
    "survived_ages_float = survived_binned.astype(np.float)\n",
    "\n",
    "normalized = survived_ages_float/all_ages_float*100\n",
    "\n",
    "fig, ax = plt.subplots()\n",
    "\n",
    "width = 1\n",
    "chart = ax.bar(position, normalized, width)\n",
    "title = \"Survival at Age Breakdown within that Age Population\"\n",
    "y_axis = \"Percent\"\n",
    "x_axis = \"Age (binned by 10)\"\n",
    "ax.set_title(title)\n",
    "ax.set_ylabel(y_axis)\n",
    "ax.set_xlabel(x_axis)\n",
    "plt.show()"
   ]
  },
  {
   "cell_type": "code",
   "execution_count": null,
   "metadata": {
    "collapsed": true
   },
   "outputs": [],
   "source": []
  }
 ],
 "metadata": {
  "kernelspec": {
   "display_name": "Python 2",
   "language": "python",
   "name": "python2"
  },
  "language_info": {
   "codemirror_mode": {
    "name": "ipython",
    "version": 2
   },
   "file_extension": ".py",
   "mimetype": "text/x-python",
   "name": "python",
   "nbconvert_exporter": "python",
   "pygments_lexer": "ipython2",
   "version": "2.7.11"
  }
 },
 "nbformat": 4,
 "nbformat_minor": 0
}
