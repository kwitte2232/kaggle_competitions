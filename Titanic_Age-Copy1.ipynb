{
 "cells": [
  {
   "cell_type": "code",
   "execution_count": 1,
   "metadata": {
    "collapsed": false
   },
   "outputs": [],
   "source": [
    "import pandas as pd\n",
    "import numpy as np\n",
    "import matplotlib.pyplot as plt\n",
    "from sklearn import tree"
   ]
  },
  {
   "cell_type": "code",
   "execution_count": 11,
   "metadata": {
    "collapsed": false
   },
   "outputs": [
    {
     "data": {
      "text/html": [
       "<div style=\"max-height:1000px;max-width:1500px;overflow:auto;\">\n",
       "<table border=\"1\" class=\"dataframe\">\n",
       "  <thead>\n",
       "    <tr style=\"text-align: right;\">\n",
       "      <th></th>\n",
       "      <th>PassengerId</th>\n",
       "      <th>Survived</th>\n",
       "      <th>Pclass</th>\n",
       "      <th>Name</th>\n",
       "      <th>Sex</th>\n",
       "      <th>Age</th>\n",
       "      <th>SibSp</th>\n",
       "      <th>Parch</th>\n",
       "      <th>Ticket</th>\n",
       "      <th>Fare</th>\n",
       "      <th>Cabin</th>\n",
       "      <th>Embarked</th>\n",
       "    </tr>\n",
       "  </thead>\n",
       "  <tbody>\n",
       "    <tr>\n",
       "      <th>0</th>\n",
       "      <td> 1</td>\n",
       "      <td> 0</td>\n",
       "      <td> 3</td>\n",
       "      <td>                           Braund, Mr. Owen Harris</td>\n",
       "      <td>   male</td>\n",
       "      <td> 22</td>\n",
       "      <td> 1</td>\n",
       "      <td> 0</td>\n",
       "      <td>        A/5 21171</td>\n",
       "      <td>  7.2500</td>\n",
       "      <td>  NaN</td>\n",
       "      <td> S</td>\n",
       "    </tr>\n",
       "    <tr>\n",
       "      <th>1</th>\n",
       "      <td> 2</td>\n",
       "      <td> 1</td>\n",
       "      <td> 1</td>\n",
       "      <td> Cumings, Mrs. John Bradley (Florence Briggs Th...</td>\n",
       "      <td> female</td>\n",
       "      <td> 38</td>\n",
       "      <td> 1</td>\n",
       "      <td> 0</td>\n",
       "      <td>         PC 17599</td>\n",
       "      <td> 71.2833</td>\n",
       "      <td>  C85</td>\n",
       "      <td> C</td>\n",
       "    </tr>\n",
       "    <tr>\n",
       "      <th>2</th>\n",
       "      <td> 3</td>\n",
       "      <td> 1</td>\n",
       "      <td> 3</td>\n",
       "      <td>                            Heikkinen, Miss. Laina</td>\n",
       "      <td> female</td>\n",
       "      <td> 26</td>\n",
       "      <td> 0</td>\n",
       "      <td> 0</td>\n",
       "      <td> STON/O2. 3101282</td>\n",
       "      <td>  7.9250</td>\n",
       "      <td>  NaN</td>\n",
       "      <td> S</td>\n",
       "    </tr>\n",
       "    <tr>\n",
       "      <th>3</th>\n",
       "      <td> 4</td>\n",
       "      <td> 1</td>\n",
       "      <td> 1</td>\n",
       "      <td>      Futrelle, Mrs. Jacques Heath (Lily May Peel)</td>\n",
       "      <td> female</td>\n",
       "      <td> 35</td>\n",
       "      <td> 1</td>\n",
       "      <td> 0</td>\n",
       "      <td>           113803</td>\n",
       "      <td> 53.1000</td>\n",
       "      <td> C123</td>\n",
       "      <td> S</td>\n",
       "    </tr>\n",
       "    <tr>\n",
       "      <th>4</th>\n",
       "      <td> 5</td>\n",
       "      <td> 0</td>\n",
       "      <td> 3</td>\n",
       "      <td>                          Allen, Mr. William Henry</td>\n",
       "      <td>   male</td>\n",
       "      <td> 35</td>\n",
       "      <td> 0</td>\n",
       "      <td> 0</td>\n",
       "      <td>           373450</td>\n",
       "      <td>  8.0500</td>\n",
       "      <td>  NaN</td>\n",
       "      <td> S</td>\n",
       "    </tr>\n",
       "  </tbody>\n",
       "</table>\n",
       "</div>"
      ],
      "text/plain": [
       "   PassengerId  Survived  Pclass  \\\n",
       "0            1         0       3   \n",
       "1            2         1       1   \n",
       "2            3         1       3   \n",
       "3            4         1       1   \n",
       "4            5         0       3   \n",
       "\n",
       "                                                Name     Sex  Age  SibSp  \\\n",
       "0                            Braund, Mr. Owen Harris    male   22      1   \n",
       "1  Cumings, Mrs. John Bradley (Florence Briggs Th...  female   38      1   \n",
       "2                             Heikkinen, Miss. Laina  female   26      0   \n",
       "3       Futrelle, Mrs. Jacques Heath (Lily May Peel)  female   35      1   \n",
       "4                           Allen, Mr. William Henry    male   35      0   \n",
       "\n",
       "   Parch            Ticket     Fare Cabin Embarked  \n",
       "0      0         A/5 21171   7.2500   NaN        S  \n",
       "1      0          PC 17599  71.2833   C85        C  \n",
       "2      0  STON/O2. 3101282   7.9250   NaN        S  \n",
       "3      0            113803  53.1000  C123        S  \n",
       "4      0            373450   8.0500   NaN        S  "
      ]
     },
     "execution_count": 11,
     "metadata": {},
     "output_type": "execute_result"
    }
   ],
   "source": [
    "train_url = \"http://s3.amazonaws.com/assets.datacamp.com/course/Kaggle/train.csv\"\n",
    "train_data = pd.read_csv(train_url)\n",
    "train_data.head()"
   ]
  },
  {
   "cell_type": "code",
   "execution_count": 12,
   "metadata": {
    "collapsed": false
   },
   "outputs": [
    {
     "data": {
      "text/html": [
       "<div style=\"max-height:1000px;max-width:1500px;overflow:auto;\">\n",
       "<table border=\"1\" class=\"dataframe\">\n",
       "  <thead>\n",
       "    <tr style=\"text-align: right;\">\n",
       "      <th></th>\n",
       "      <th>PassengerId</th>\n",
       "      <th>Survived</th>\n",
       "      <th>Pclass</th>\n",
       "      <th>Name</th>\n",
       "      <th>Sex</th>\n",
       "      <th>Age</th>\n",
       "      <th>SibSp</th>\n",
       "      <th>Parch</th>\n",
       "      <th>Ticket</th>\n",
       "      <th>Fare</th>\n",
       "      <th>Cabin</th>\n",
       "      <th>Embarked</th>\n",
       "    </tr>\n",
       "  </thead>\n",
       "  <tbody>\n",
       "    <tr>\n",
       "      <th>0</th>\n",
       "      <td> 1</td>\n",
       "      <td> 0</td>\n",
       "      <td> 3</td>\n",
       "      <td>                           Braund, Mr. Owen Harris</td>\n",
       "      <td>   male</td>\n",
       "      <td> 22</td>\n",
       "      <td> 1</td>\n",
       "      <td> 0</td>\n",
       "      <td>        A/5 21171</td>\n",
       "      <td> 13</td>\n",
       "      <td>  NaN</td>\n",
       "      <td> S</td>\n",
       "    </tr>\n",
       "    <tr>\n",
       "      <th>1</th>\n",
       "      <td> 2</td>\n",
       "      <td> 1</td>\n",
       "      <td> 1</td>\n",
       "      <td> Cumings, Mrs. John Bradley (Florence Briggs Th...</td>\n",
       "      <td> female</td>\n",
       "      <td> 38</td>\n",
       "      <td> 1</td>\n",
       "      <td> 0</td>\n",
       "      <td>         PC 17599</td>\n",
       "      <td> 13</td>\n",
       "      <td>  C85</td>\n",
       "      <td> C</td>\n",
       "    </tr>\n",
       "    <tr>\n",
       "      <th>2</th>\n",
       "      <td> 3</td>\n",
       "      <td> 1</td>\n",
       "      <td> 3</td>\n",
       "      <td>                            Heikkinen, Miss. Laina</td>\n",
       "      <td> female</td>\n",
       "      <td> 26</td>\n",
       "      <td> 0</td>\n",
       "      <td> 0</td>\n",
       "      <td> STON/O2. 3101282</td>\n",
       "      <td> 13</td>\n",
       "      <td>  NaN</td>\n",
       "      <td> S</td>\n",
       "    </tr>\n",
       "    <tr>\n",
       "      <th>3</th>\n",
       "      <td> 4</td>\n",
       "      <td> 1</td>\n",
       "      <td> 1</td>\n",
       "      <td>      Futrelle, Mrs. Jacques Heath (Lily May Peel)</td>\n",
       "      <td> female</td>\n",
       "      <td> 35</td>\n",
       "      <td> 1</td>\n",
       "      <td> 0</td>\n",
       "      <td>           113803</td>\n",
       "      <td> 13</td>\n",
       "      <td> C123</td>\n",
       "      <td> S</td>\n",
       "    </tr>\n",
       "    <tr>\n",
       "      <th>4</th>\n",
       "      <td> 5</td>\n",
       "      <td> 0</td>\n",
       "      <td> 3</td>\n",
       "      <td>                          Allen, Mr. William Henry</td>\n",
       "      <td>   male</td>\n",
       "      <td> 35</td>\n",
       "      <td> 0</td>\n",
       "      <td> 0</td>\n",
       "      <td>           373450</td>\n",
       "      <td> 13</td>\n",
       "      <td>  NaN</td>\n",
       "      <td> S</td>\n",
       "    </tr>\n",
       "  </tbody>\n",
       "</table>\n",
       "</div>"
      ],
      "text/plain": [
       "   PassengerId  Survived  Pclass  \\\n",
       "0            1         0       3   \n",
       "1            2         1       1   \n",
       "2            3         1       3   \n",
       "3            4         1       1   \n",
       "4            5         0       3   \n",
       "\n",
       "                                                Name     Sex  Age  SibSp  \\\n",
       "0                            Braund, Mr. Owen Harris    male   22      1   \n",
       "1  Cumings, Mrs. John Bradley (Florence Briggs Th...  female   38      1   \n",
       "2                             Heikkinen, Miss. Laina  female   26      0   \n",
       "3       Futrelle, Mrs. Jacques Heath (Lily May Peel)  female   35      1   \n",
       "4                           Allen, Mr. William Henry    male   35      0   \n",
       "\n",
       "   Parch            Ticket  Fare Cabin Embarked  \n",
       "0      0         A/5 21171    13   NaN        S  \n",
       "1      0          PC 17599    13   C85        C  \n",
       "2      0  STON/O2. 3101282    13   NaN        S  \n",
       "3      0            113803    13  C123        S  \n",
       "4      0            373450    13   NaN        S  "
      ]
     },
     "execution_count": 12,
     "metadata": {},
     "output_type": "execute_result"
    }
   ],
   "source": [
    "#Fill NaN in Age with 19 if they don't have any family members\n",
    "# Assuming that they would be young adult people traveling alone\n",
    "#Fill NaN in Age with 17 if their family members are 2 or more \n",
    "for i,age in enumerate(train_data[\"Age\"]):\n",
    "    num_fam_members = train_data[\"Parch\"][i] + train_data[\"SibSp\"][i]\n",
    "    if num_fam_members == 0: \n",
    "        train_data[\"Age\"] = train_data[\"Age\"].fillna(19)\n",
    "    elif num_fam_members >= 2:\n",
    "        train_data[\"Age\"] = train_data[\"Age\"].fillna(17)\n",
    "\n",
    "\n",
    "third_mode = train_data.loc[train_data.Pclass == 3].Fare.mode().iloc[0]\n",
    "#print \"start\", train_data.loc[:, [\"PassengerId\",'Pclass', 'Fare']].loc[train_data.Pclass == 3].loc[train_data.Fare == 0]\n",
    "#dex = train_data.loc[:, [\"PassengerId\",'Pclass', 'Fare']].loc[train_data.Pclass == 3].loc[train_data.Fare == 0].values\n",
    "dex = train_data.loc[:, \"PassengerId\"].loc[train_data.Pclass == 3].loc[train_data.Fare == 0].values\n",
    "#print \"dex:\", dex\n",
    "\n",
    "for curr_dex in dex:\n",
    "    curr_dex = curr_dex - 1\n",
    "    train_data.set_value(curr_dex, 'Fare', third_mode)\n",
    "\n",
    "#print \"end\", train_data.loc[:, [\"PassengerId\",'Pclass', 'Fare']].loc[train_data.Pclass == 3].loc[train_data.Fare == third_mode]\n",
    "\n",
    "\n",
    "def convert_agena(df):\n",
    "    \n",
    "    for i,age in enumerate(df[\"Age\"]):\n",
    "        num_fam_members = df[\"Parch\"][i] + df[\"SibSp\"][i]\n",
    "        if num_fam_members == 0: \n",
    "            df[\"Age\"] = df[\"Age\"].fillna(19)\n",
    "        elif num_fam_members >= 2:\n",
    "            df[\"Age\"] = df[\"Age\"].fillna(17)\n",
    "            \n",
    "    return None\n",
    "\n",
    "def convert_minfares_mode(df, pclass):\n",
    "    \n",
    "    mode = df.loc[df.Pclass == pclass].Fare.mode().iloc[0]\n",
    "    #print mode\n",
    "    #dex = df.loc[:, ['PassengerId']].loc[df.Pclass == pclass].loc[df.Fare == 0].values\n",
    "    dex = df.index.values\n",
    "    #print dex\n",
    "    \n",
    "    for curr_dex in dex:\n",
    "        #curr_dex = curr_dex - 1\n",
    "        df.set_value(curr_dex, 'Fare', mode)\n",
    "    \n",
    "    return None\n",
    "\n",
    "def convert_sex(df):\n",
    "    \n",
    "    df.loc[df.Sex == 'female', 'Sex'] = 1\n",
    "    df.loc[df.Sex == 'male', 'Sex'] = 0\n",
    "    \n",
    "    return None\n",
    "    \n",
    "\n",
    "\n",
    "convert_minfares_mode(train_data, 2)\n",
    "convert_minfares_mode(train_data, 1)\n",
    "\n",
    "\n",
    "\n",
    "#This does not work:\n",
    "    #train_data.loc[:, [\"PassengerId\",'Pclass', 'Fare']].loc[train_data.Pclass == 3].loc[train_data.Fare == 0, \"Fare\"] = third_mode\n",
    "#for pid in my_frame[\"PassengerId\"]:\n",
    "    #my_list.append(pid)\n",
    "    #train_data.loc[train_data.PassengerId == pid, \"Fare\"] = third_mode\n",
    "\n",
    "#could have used passengerID, which the value is the same as the index\n",
    "train_data.head()"
   ]
  },
  {
   "cell_type": "code",
   "execution_count": 10,
   "metadata": {
    "collapsed": false
   },
   "outputs": [
    {
     "data": {
      "text/html": [
       "<div style=\"max-height:1000px;max-width:1500px;overflow:auto;\">\n",
       "<table border=\"1\" class=\"dataframe\">\n",
       "  <thead>\n",
       "    <tr style=\"text-align: right;\">\n",
       "      <th></th>\n",
       "      <th>PassengerId</th>\n",
       "      <th>Survived</th>\n",
       "      <th>Pclass</th>\n",
       "      <th>Name</th>\n",
       "      <th>Sex</th>\n",
       "      <th>Age</th>\n",
       "      <th>SibSp</th>\n",
       "      <th>Parch</th>\n",
       "      <th>Ticket</th>\n",
       "      <th>Fare</th>\n",
       "      <th>Cabin</th>\n",
       "      <th>Embarked</th>\n",
       "      <th>Child</th>\n",
       "    </tr>\n",
       "  </thead>\n",
       "  <tbody>\n",
       "    <tr>\n",
       "      <th>0</th>\n",
       "      <td> 1</td>\n",
       "      <td> 0</td>\n",
       "      <td> 3</td>\n",
       "      <td>                           Braund, Mr. Owen Harris</td>\n",
       "      <td>   male</td>\n",
       "      <td> 22</td>\n",
       "      <td> 1</td>\n",
       "      <td> 0</td>\n",
       "      <td>        A/5 21171</td>\n",
       "      <td> 13</td>\n",
       "      <td>  NaN</td>\n",
       "      <td> S</td>\n",
       "      <td> 0</td>\n",
       "    </tr>\n",
       "    <tr>\n",
       "      <th>1</th>\n",
       "      <td> 2</td>\n",
       "      <td> 1</td>\n",
       "      <td> 1</td>\n",
       "      <td> Cumings, Mrs. John Bradley (Florence Briggs Th...</td>\n",
       "      <td> female</td>\n",
       "      <td> 38</td>\n",
       "      <td> 1</td>\n",
       "      <td> 0</td>\n",
       "      <td>         PC 17599</td>\n",
       "      <td> 13</td>\n",
       "      <td>  C85</td>\n",
       "      <td> C</td>\n",
       "      <td> 0</td>\n",
       "    </tr>\n",
       "    <tr>\n",
       "      <th>2</th>\n",
       "      <td> 3</td>\n",
       "      <td> 1</td>\n",
       "      <td> 3</td>\n",
       "      <td>                            Heikkinen, Miss. Laina</td>\n",
       "      <td> female</td>\n",
       "      <td> 26</td>\n",
       "      <td> 0</td>\n",
       "      <td> 0</td>\n",
       "      <td> STON/O2. 3101282</td>\n",
       "      <td> 13</td>\n",
       "      <td>  NaN</td>\n",
       "      <td> S</td>\n",
       "      <td> 0</td>\n",
       "    </tr>\n",
       "    <tr>\n",
       "      <th>3</th>\n",
       "      <td> 4</td>\n",
       "      <td> 1</td>\n",
       "      <td> 1</td>\n",
       "      <td>      Futrelle, Mrs. Jacques Heath (Lily May Peel)</td>\n",
       "      <td> female</td>\n",
       "      <td> 35</td>\n",
       "      <td> 1</td>\n",
       "      <td> 0</td>\n",
       "      <td>           113803</td>\n",
       "      <td> 13</td>\n",
       "      <td> C123</td>\n",
       "      <td> S</td>\n",
       "      <td> 0</td>\n",
       "    </tr>\n",
       "    <tr>\n",
       "      <th>4</th>\n",
       "      <td> 5</td>\n",
       "      <td> 0</td>\n",
       "      <td> 3</td>\n",
       "      <td>                          Allen, Mr. William Henry</td>\n",
       "      <td>   male</td>\n",
       "      <td> 35</td>\n",
       "      <td> 0</td>\n",
       "      <td> 0</td>\n",
       "      <td>           373450</td>\n",
       "      <td> 13</td>\n",
       "      <td>  NaN</td>\n",
       "      <td> S</td>\n",
       "      <td> 0</td>\n",
       "    </tr>\n",
       "  </tbody>\n",
       "</table>\n",
       "</div>"
      ],
      "text/plain": [
       "   PassengerId  Survived  Pclass  \\\n",
       "0            1         0       3   \n",
       "1            2         1       1   \n",
       "2            3         1       3   \n",
       "3            4         1       1   \n",
       "4            5         0       3   \n",
       "\n",
       "                                                Name     Sex  Age  SibSp  \\\n",
       "0                            Braund, Mr. Owen Harris    male   22      1   \n",
       "1  Cumings, Mrs. John Bradley (Florence Briggs Th...  female   38      1   \n",
       "2                             Heikkinen, Miss. Laina  female   26      0   \n",
       "3       Futrelle, Mrs. Jacques Heath (Lily May Peel)  female   35      1   \n",
       "4                           Allen, Mr. William Henry    male   35      0   \n",
       "\n",
       "   Parch            Ticket  Fare Cabin Embarked  Child  \n",
       "0      0         A/5 21171    13   NaN        S      0  \n",
       "1      0          PC 17599    13   C85        C      0  \n",
       "2      0  STON/O2. 3101282    13   NaN        S      0  \n",
       "3      0            113803    13  C123        S      0  \n",
       "4      0            373450    13   NaN        S      0  "
      ]
     },
     "execution_count": 10,
     "metadata": {},
     "output_type": "execute_result"
    }
   ],
   "source": [
    "train_data[\"Child\"] = float(\"NaN\")\n",
    "train_data.loc[train_data.Age < 18, \"Child\"] = 1\n",
    "train_data.loc[train_data.Age >= 18, \"Child\"] = 0\n",
    "train_data.head()"
   ]
  },
  {
   "cell_type": "code",
   "execution_count": 13,
   "metadata": {
    "collapsed": false
   },
   "outputs": [
    {
     "data": {
      "image/png": "[encoded data removed]",
      "text/plain": [
       "<matplotlib.figure.Figure at 0x10c179b50>"
      ]
     },
     "metadata": {},
     "output_type": "display_data"
    },
    {
     "data": {
      "image/png": "[encoded data removed]",
      "text/plain": [
       "<matplotlib.figure.Figure at 0x10c464f90>"
      ]
     },
     "metadata": {},
     "output_type": "display_data"
    }
   ],
   "source": [
    "%matplotlib inline\n",
    "fare = np.asarray(train_data['Fare'])\n",
    "pclass = np.asarray(train_data['Pclass'])\n",
    "\n",
    "plt.scatter(pclass, fare)\n",
    "plt.show()\n",
    "\n",
    "plt.scatter(fare, pclass)\n",
    "plt.xlabel(\"Fare\")\n",
    "plt.ylabel(\"Passenger Class\")\n",
    "plt.show()"
   ]
  },
  {
   "cell_type": "code",
   "execution_count": 111,
   "metadata": {
    "collapsed": false
   },
   "outputs": [
    {
     "data": {
      "text/plain": [
       "0    8.05\n",
       "dtype: float64"
      ]
     },
     "execution_count": 111,
     "metadata": {},
     "output_type": "execute_result"
    },
    {
     "data": {
      "image/png": "[encoded data removed]",
      "text/plain": [
       "<matplotlib.figure.Figure at 0x10c382650>"
      ]
     },
     "metadata": {},
     "output_type": "display_data"
    }
   ],
   "source": [
    "%matplotlib inline\n",
    "third_class = train_data[train_data.Pclass == 3]\n",
    "third_fare = np.asarray(third_class['Fare'])\n",
    "#print 'THIRD'\n",
    "plt.hist(third_fare, bins=50)\n",
    "\n",
    "#third_class.describe()\n",
    "#third_class\n",
    "third_class['Fare'].mode()\n",
    "#third_class.fillna(df.mode().iloc[0])"
   ]
  },
  {
   "cell_type": "code",
   "execution_count": 121,
   "metadata": {
    "collapsed": false
   },
   "outputs": [
    {
     "name": "stdout",
     "output_type": "stream",
     "text": [
      "SECOND\n"
     ]
    },
    {
     "data": {
      "text/html": [
       "<div style=\"max-height:1000px;max-width:1500px;overflow:auto;\">\n",
       "<table border=\"1\" class=\"dataframe\">\n",
       "  <thead>\n",
       "    <tr style=\"text-align: right;\">\n",
       "      <th></th>\n",
       "      <th>PassengerId</th>\n",
       "      <th>Survived</th>\n",
       "      <th>Pclass</th>\n",
       "      <th>Age</th>\n",
       "      <th>SibSp</th>\n",
       "      <th>Parch</th>\n",
       "      <th>Fare</th>\n",
       "    </tr>\n",
       "  </thead>\n",
       "  <tbody>\n",
       "    <tr>\n",
       "      <th>count</th>\n",
       "      <td> 184.000000</td>\n",
       "      <td> 184.000000</td>\n",
       "      <td> 184</td>\n",
       "      <td> 173.000000</td>\n",
       "      <td> 184.000000</td>\n",
       "      <td> 184.000000</td>\n",
       "      <td> 184.000000</td>\n",
       "    </tr>\n",
       "    <tr>\n",
       "      <th>mean</th>\n",
       "      <td> 445.956522</td>\n",
       "      <td>   0.472826</td>\n",
       "      <td>   2</td>\n",
       "      <td>  29.877630</td>\n",
       "      <td>   0.402174</td>\n",
       "      <td>   0.380435</td>\n",
       "      <td>  21.086096</td>\n",
       "    </tr>\n",
       "    <tr>\n",
       "      <th>std</th>\n",
       "      <td> 250.852161</td>\n",
       "      <td>   0.500623</td>\n",
       "      <td>   0</td>\n",
       "      <td>  14.001077</td>\n",
       "      <td>   0.601633</td>\n",
       "      <td>   0.690963</td>\n",
       "      <td>  12.952730</td>\n",
       "    </tr>\n",
       "    <tr>\n",
       "      <th>min</th>\n",
       "      <td>  10.000000</td>\n",
       "      <td>   0.000000</td>\n",
       "      <td>   2</td>\n",
       "      <td>   0.670000</td>\n",
       "      <td>   0.000000</td>\n",
       "      <td>   0.000000</td>\n",
       "      <td>  10.500000</td>\n",
       "    </tr>\n",
       "    <tr>\n",
       "      <th>25%</th>\n",
       "      <td> 234.500000</td>\n",
       "      <td>   0.000000</td>\n",
       "      <td>   2</td>\n",
       "      <td>  23.000000</td>\n",
       "      <td>   0.000000</td>\n",
       "      <td>   0.000000</td>\n",
       "      <td>  13.000000</td>\n",
       "    </tr>\n",
       "    <tr>\n",
       "      <th>50%</th>\n",
       "      <td> 435.500000</td>\n",
       "      <td>   0.000000</td>\n",
       "      <td>   2</td>\n",
       "      <td>  29.000000</td>\n",
       "      <td>   0.000000</td>\n",
       "      <td>   0.000000</td>\n",
       "      <td>  14.250000</td>\n",
       "    </tr>\n",
       "    <tr>\n",
       "      <th>75%</th>\n",
       "      <td> 668.000000</td>\n",
       "      <td>   1.000000</td>\n",
       "      <td>   2</td>\n",
       "      <td>  36.000000</td>\n",
       "      <td>   1.000000</td>\n",
       "      <td>   1.000000</td>\n",
       "      <td>  26.000000</td>\n",
       "    </tr>\n",
       "    <tr>\n",
       "      <th>max</th>\n",
       "      <td> 887.000000</td>\n",
       "      <td>   1.000000</td>\n",
       "      <td>   2</td>\n",
       "      <td>  70.000000</td>\n",
       "      <td>   3.000000</td>\n",
       "      <td>   3.000000</td>\n",
       "      <td>  73.500000</td>\n",
       "    </tr>\n",
       "  </tbody>\n",
       "</table>\n",
       "</div>"
      ],
      "text/plain": [
       "       PassengerId    Survived  Pclass         Age       SibSp       Parch  \\\n",
       "count   184.000000  184.000000     184  173.000000  184.000000  184.000000   \n",
       "mean    445.956522    0.472826       2   29.877630    0.402174    0.380435   \n",
       "std     250.852161    0.500623       0   14.001077    0.601633    0.690963   \n",
       "min      10.000000    0.000000       2    0.670000    0.000000    0.000000   \n",
       "25%     234.500000    0.000000       2   23.000000    0.000000    0.000000   \n",
       "50%     435.500000    0.000000       2   29.000000    0.000000    0.000000   \n",
       "75%     668.000000    1.000000       2   36.000000    1.000000    1.000000   \n",
       "max     887.000000    1.000000       2   70.000000    3.000000    3.000000   \n",
       "\n",
       "             Fare  \n",
       "count  184.000000  \n",
       "mean    21.086096  \n",
       "std     12.952730  \n",
       "min     10.500000  \n",
       "25%     13.000000  \n",
       "50%     14.250000  \n",
       "75%     26.000000  \n",
       "max     73.500000  "
      ]
     },
     "execution_count": 121,
     "metadata": {},
     "output_type": "execute_result"
    },
    {
     "data": {
      "image/png": "[encoded data removed]",
      "text/plain": [
       "<matplotlib.figure.Figure at 0x10b9d8250>"
      ]
     },
     "metadata": {},
     "output_type": "display_data"
    }
   ],
   "source": [
    "second_class = train_data[train_data.Pclass == 2]\n",
    "second_fare = np.asarray(second_class['Fare'])\n",
    "print 'SECOND'\n",
    "plt.hist(second_fare, bins=50)\n",
    "\n",
    "\n",
    "second_class.describe()\n",
    "#second_class['Fare'].mode()"
   ]
  },
  {
   "cell_type": "code",
   "execution_count": 107,
   "metadata": {
    "collapsed": false
   },
   "outputs": [
    {
     "name": "stdout",
     "output_type": "stream",
     "text": [
      "FIRST\n"
     ]
    },
    {
     "data": {
      "text/plain": [
       "0    26.55\n",
       "dtype: float64"
      ]
     },
     "execution_count": 107,
     "metadata": {},
     "output_type": "execute_result"
    },
    {
     "data": {
      "image/png": "[encoded data removed]",
      "text/plain": [
       "<matplotlib.figure.Figure at 0x10c6409d0>"
      ]
     },
     "metadata": {},
     "output_type": "display_data"
    }
   ],
   "source": [
    "\n",
    "first_class = train_data[train_data.Pclass == 1]\n",
    "first_fare = np.asarray(first_class['Fare'])\n",
    "print 'FIRST'\n",
    "plt.hist(first_fare, bins=50)\n",
    "\n",
    "first_class.describe()\n",
    "first_class['Fare'].mode()"
   ]
  },
  {
   "cell_type": "code",
   "execution_count": 146,
   "metadata": {
    "collapsed": false
   },
   "outputs": [
    {
     "data": {
      "image/png": "[encoded data removed]",
      "text/plain": [
       "<matplotlib.figure.Figure at 0x10c5c9c10>"
      ]
     },
     "metadata": {},
     "output_type": "display_data"
    }
   ],
   "source": [
    "train_data.isnull().any()\n",
    "\n",
    "train[\"Survived\"].value_counts(normalize = True)\n",
    "\n",
    "\n",
    "#train_data.describe()\n",
    "survive = np.asarray(train_data.loc[:, 'Survived'].loc[train_data.Pclass == 3])\n",
    "sex = np.asarray(train_data.loc[:, \"Sex\"].loc[train_data.Pclass == 3].loc[:, 'Survived' == 1])\n",
    "fare = np.asarray(train_data['Fare'])\n",
    "pclass = np.asarray(train_data['Pclass'])\n",
    "%matplotlib inline\n",
    "plt.hist(sex, survive)\n",
    "plt.show()"
   ]
  },
  {
   "cell_type": "code",
   "execution_count": 156,
   "metadata": {
    "collapsed": false
   },
   "outputs": [
    {
     "data": {
      "text/plain": [
       "0    0.811092\n",
       "1    0.188908\n",
       "dtype: float64"
      ]
     },
     "execution_count": 156,
     "metadata": {},
     "output_type": "execute_result"
    }
   ],
   "source": [
    "train_data.loc[:, 'Survived'].loc[train_data.Sex == 1].value_counts(normalize=True)\n",
    "\n",
    "train_data.loc[:, 'Survived'].loc[train_data.Sex == 0].value_counts(normalize=True)"
   ]
  },
  {
   "cell_type": "code",
   "execution_count": 158,
   "metadata": {
    "collapsed": false
   },
   "outputs": [
    {
     "name": "stdout",
     "output_type": "stream",
     "text": [
      "[ 0.12307742  0.31388404  0.2552471   0.30779144]\n",
      "0.978675645342\n"
     ]
    }
   ],
   "source": [
    "# Create the target and features numpy arrays: target, features_one\n",
    "target = train_data[\"Survived\"].values\n",
    "features_one = train_data[[\"Pclass\", \"Sex\", \"Age\", \"Fare\"]].values\n",
    "\n",
    "# Fit your first decision tree: my_tree_one\n",
    "my_tree_one = tree.DecisionTreeClassifier()\n",
    "my_tree_one = my_tree_one.fit(features_one, target)\n",
    "\n",
    "# Look at the importance and score of the included features\n",
    "print(my_tree_one.feature_importances_)\n",
    "print(my_tree_one.score(features_one, target))\n",
    "\n",
    "#Are there more males in the upper class?\n",
    "#write functions to do all the data handling and cleaning for the test\n",
    "\n"
   ]
  },
  {
   "cell_type": "code",
   "execution_count": 168,
   "metadata": {
    "collapsed": false
   },
   "outputs": [
    {
     "name": "stdout",
     "output_type": "stream",
     "text": [
      "[ 0.19001678  0.10593835  0.55964146  0.09528401  0.03998021  0.00913918]\n",
      "0.841750841751\n"
     ]
    }
   ],
   "source": [
    "# Create a new array with the added features: features_two\n",
    "features_two = train_data[[\"Pclass\",\"Age\",\"Sex\",\"Fare\", \"SibSp\", \"Parch\"]].values\n",
    "\n",
    "#Control overfitting by setting \"max_depth\" to 10 and \"min_samples_split\" to 5 : my_tree_two\n",
    "max_depth = 5\n",
    "min_samples_split = 5\n",
    "my_tree_two = tree.DecisionTreeClassifier(max_depth = max_depth, min_samples_split = min_samples_split, random_state = 1)\n",
    "my_tree_two = my_tree_two.fit(features_two, target)\n",
    "\n",
    "#Print the score of the new decison tree\n",
    "print(my_tree_two.feature_importances_)\n",
    "print(my_tree_two.score(features_two, target))"
   ]
  },
  {
   "cell_type": "code",
   "execution_count": 191,
   "metadata": {
    "collapsed": false
   },
   "outputs": [
    {
     "name": "stdout",
     "output_type": "stream",
     "text": [
      "[ 0.10626223  0.22502609  0.32708779  0.24363056  0.05489006  0.04310328]\n",
      "0.94051627385\n",
      "     Survived\n",
      "1           0\n",
      "2           1\n",
      "3           1\n",
      "4           1\n",
      "5           0\n",
      "6           0\n",
      "7           0\n",
      "8           0\n",
      "9           0\n",
      "10          1\n",
      "11          1\n",
      "12          1\n",
      "13          0\n",
      "14          0\n",
      "15          0\n",
      "16          1\n",
      "17          0\n",
      "18          0\n",
      "19          0\n",
      "20          0\n",
      "21          0\n",
      "22          0\n",
      "23          0\n",
      "24          1\n",
      "25          0\n",
      "26          0\n",
      "27          0\n",
      "28          0\n",
      "29          0\n",
      "30          0\n",
      "..        ...\n",
      "862         0\n",
      "863         1\n",
      "864         0\n",
      "865         0\n",
      "866         1\n",
      "867         1\n",
      "868         1\n",
      "869         0\n",
      "870         1\n",
      "871         0\n",
      "872         1\n",
      "873         1\n",
      "874         0\n",
      "875         1\n",
      "876         0\n",
      "877         0\n",
      "878         0\n",
      "879         0\n",
      "880         1\n",
      "881         1\n",
      "882         0\n",
      "883         0\n",
      "884         0\n",
      "885         0\n",
      "886         0\n",
      "887         0\n",
      "888         1\n",
      "889         0\n",
      "890         1\n",
      "891         0\n",
      "\n",
      "[891 rows x 1 columns]\n",
      "(891, 1)\n"
     ]
    }
   ],
   "source": [
    "from sklearn.ensemble import RandomForestClassifier\n",
    "\n",
    "forest = RandomForestClassifier(max_depth = 10, min_samples_split=2, n_estimators = 100, random_state = 1)\n",
    "my_forest = forest.fit(features_two, target)\n",
    "\n",
    "# Print the score of the fitted random forest\n",
    "print(my_forest.feature_importances_)\n",
    "print(my_forest.score(features_two, target))\n",
    "\n",
    "# Compute predictions on our test set features then print the length of the prediction vector\n",
    "test_features = test_data[[\"Pclass\",\"Age\",\"Sex\",\"Fare\", \"SibSp\", \"Parch\"]].values\n",
    "pred_forest = my_forest.predict(test_features)\n",
    "\n",
    "# Create a data frame with two columns: PassengerId & Survived. Survived contains your predictions\n",
    "PassengerId =np.array(test_data[\"PassengerId\"]).astype(int)\n",
    "my_solution = pd.DataFrame(pred_forest, PassengerId, columns = [\"Survived\"])\n",
    "print(my_solution)\n",
    "\n",
    "# Check that your data frame has 418 entries\n",
    "print(my_solution.shape)"
   ]
  },
  {
   "cell_type": "code",
   "execution_count": 192,
   "metadata": {
    "collapsed": false
   },
   "outputs": [],
   "source": [
    "test_url = \"http://s3.amazonaws.com/assets.datacamp.com/course/Kaggle/test.csv\"\n",
    "test_data = pd.read_csv(train_url)\n",
    "convert_agena(test_data)\n",
    "convert_minfares_mode(test_data, 1)\n",
    "convert_minfares_mode(test_data, 2)\n",
    "convert_minfares_mode(test_data, 3)\n",
    "convert_sex(test_data)"
   ]
  },
  {
   "cell_type": "code",
   "execution_count": null,
   "metadata": {
    "collapsed": true
   },
   "outputs": [],
   "source": []
  }
 ],
 "metadata": {
  "kernelspec": {
   "display_name": "Python 2",
   "language": "python",
   "name": "python2"
  },
  "language_info": {
   "codemirror_mode": {
    "name": "ipython",
    "version": 2
   },
   "file_extension": ".py",
   "mimetype": "text/x-python",
   "name": "python",
   "nbconvert_exporter": "python",
   "pygments_lexer": "ipython2",
   "version": "2.7.11"
  }
 },
 "nbformat": 4,
 "nbformat_minor": 0
}
